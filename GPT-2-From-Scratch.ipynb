{
 "cells": [
  {
   "cell_type": "code",
   "execution_count": 45,
   "id": "b6bd4e0e-5c3e-476b-945f-76e28a567646",
   "metadata": {},
   "outputs": [],
   "source": [
    "import torch\n",
    "import torch.nn as nn\n",
    "import tiktoken\n",
    "from torch.utils.data import Dataset, DataLoader\n",
    "import tqdm\n",
    "import time\n",
    "import os\n",
    "import urllib.request\n",
    "import matplotlib.pyplot as plt\n",
    "from matplotlib.ticker import MaxNLocator"
   ]
  },
  {
   "cell_type": "code",
   "execution_count": 46,
   "id": "28ecbfb3-010d-49ef-a0df-1d4655466899",
   "metadata": {},
   "outputs": [],
   "source": [
    "cfg = {\n",
    "    \"vocab_size\": 50257,\n",
    "    \"emb_dim\": 768,\n",
    "    \"context_length\":256,\n",
    "    \"n_layers\":12,\n",
    "    \"n_heads\": 12,\n",
    "    \"drop_rate\": 0.2,\n",
    "    \"kqv_bias\": False\n",
    "}"
   ]
  },
  {
   "cell_type": "code",
   "execution_count": 47,
   "id": "76967783-15a6-43b6-a4f5-29e98ee57eb0",
   "metadata": {},
   "outputs": [],
   "source": [
    "class LayerNorm(nn.Module):\n",
    "    def __init__(self,cfg):\n",
    "        super().__init__()\n",
    "        self.eps = 1e-5\n",
    "        self.scale = nn.Parameter(torch.ones(cfg[\"emb_dim\"]))\n",
    "        self.shift = nn.Parameter(torch.zeros(cfg[\"emb_dim\"]))\n",
    "\n",
    "    def forward(self,x):\n",
    "        mean = x.mean(dim=-1,keepdim=True)\n",
    "        var = x.var(dim=-1,keepdim=True,unbiased=False)\n",
    "        norm = (x-mean)/torch.sqrt(var + self.eps)\n",
    "        return self.scale * norm + self.shift"
   ]
  },
  {
   "cell_type": "code",
   "execution_count": 48,
   "id": "eb780232-d126-4953-9282-983ed755feee",
   "metadata": {},
   "outputs": [],
   "source": [
    "class GELU(nn.Module):\n",
    "    def __init__(self):\n",
    "        super().__init__()\n",
    "        \n",
    "    def forward(self, x):\n",
    "        return 0.5 * x * (1 + torch.tanh(\n",
    "            torch.sqrt(torch.tensor(2.0 / torch.pi)) *\n",
    "            (x + 0.044715 * torch.pow(x, 3))\n",
    "        ))"
   ]
  },
  {
   "cell_type": "code",
   "execution_count": 49,
   "id": "06fe3ecc-6520-41fd-8e7f-42f63f09a11b",
   "metadata": {},
   "outputs": [],
   "source": [
    "class FeedForward(nn.Module):\n",
    "    def __init__(self,cfg):\n",
    "        super().__init__()\n",
    "        self.layers = nn.Sequential(\n",
    "            nn.Linear(cfg[\"emb_dim\"],4*cfg[\"emb_dim\"]), #expansion\n",
    "            GELU(),\n",
    "            nn.Linear(4*cfg[\"emb_dim\"],cfg[\"emb_dim\"]),\n",
    "            nn.Dropout(cfg[\"drop_rate\"])\n",
    "        )\n",
    "\n",
    "    def forward(self,x):\n",
    "        return self.layers(x)        "
   ]
  },
  {
   "cell_type": "code",
   "execution_count": 50,
   "id": "40fea4d2-c264-4f4a-86af-34c89f350a5c",
   "metadata": {},
   "outputs": [],
   "source": [
    "class MultiHeadAttention(nn.Module):\n",
    "    def __init__(self,cfg):\n",
    "        super().__init__()\n",
    "        assert cfg[\"emb_dim\"] % cfg[\"n_heads\"] == 0 , \"embedding dimension must be divisible by number of heads\"\n",
    "    \n",
    "        self.n_heads = cfg[\"n_heads\"]\n",
    "        self.head_dim = cfg[\"emb_dim\"] // cfg[\"n_heads\"]\n",
    "\n",
    "        self.w_key = nn.Linear(cfg[\"emb_dim\"],cfg[\"emb_dim\"],bias=cfg[\"kqv_bias\"])\n",
    "        self.w_query = nn.Linear(cfg[\"emb_dim\"],cfg[\"emb_dim\"],bias=cfg[\"kqv_bias\"])\n",
    "        self.w_value = nn.Linear(cfg[\"emb_dim\"],cfg[\"emb_dim\"],bias=cfg[\"kqv_bias\"])\n",
    "        self.out_proj = nn.Linear(cfg[\"emb_dim\"],cfg[\"emb_dim\"])\n",
    "        self.dropout = nn.Dropout(cfg[\"drop_rate\"])\n",
    "        self.register_buffer(\"mask\",torch.triu(torch.ones(cfg[\"context_length\"],cfg[\"context_length\"]),diagonal=1))\n",
    "\n",
    "    def forward(self,x):\n",
    "        b,num_tokens,d_in_emb = x.shape\n",
    "\n",
    "        keys = self.w_key(x)\n",
    "        queries = self.w_query(x)\n",
    "        values = self.w_value(x)\n",
    "\n",
    "        keys = keys.view(b,num_tokens,self.n_heads,self.head_dim)\n",
    "        queries = queries.view(b,num_tokens,self.n_heads,self.head_dim)\n",
    "        values = values.view(b,num_tokens,self.n_heads,self.head_dim)\n",
    "\n",
    "        keys = keys.transpose(1,2)\n",
    "        queries = queries.transpose(1,2)\n",
    "        values = values.transpose(1,2)\n",
    "\n",
    "        attention_score = queries @ keys.transpose(2,3)\n",
    "        mask_bool = self.mask[:num_tokens, :num_tokens].bool()\n",
    "        attention_score = attention_score.masked_fill_(mask_bool,-torch.inf)\n",
    "\n",
    "        attention_weight = torch.softmax(\n",
    "            attention_score/keys.shape[-1] ** 0.5,\n",
    "            dim=-1\n",
    "        )\n",
    "        attention_weight = self.dropout(attention_weight)\n",
    "        context_vector_per_head = attention_weight @ values\n",
    "        context_vectors = context_vector_per_head.transpose(1,2)\n",
    "        context_vectors = context_vectors.contiguous().view(b,num_tokens,d_in_emb)\n",
    "\n",
    "        context_vectors = self.out_proj(context_vectors)\n",
    "        return context_vectors"
   ]
  },
  {
   "cell_type": "code",
   "execution_count": 51,
   "id": "1dc58a13-06aa-4c0c-874b-b2a04692102e",
   "metadata": {},
   "outputs": [],
   "source": [
    "class TransformerBlock(nn.Module):\n",
    "    def __init__(self,cfg):\n",
    "        super().__init__()\n",
    "        self.norm1 = LayerNorm(cfg)\n",
    "        self.att = MultiHeadAttention(cfg)\n",
    "        self.norm2 = LayerNorm(cfg)\n",
    "        self.dropout = nn.Dropout(cfg[\"drop_rate\"])\n",
    "        self.ff = FeedForward(cfg)\n",
    "\n",
    "    def forward(self,x):\n",
    "        shortcut = x\n",
    "        x = self.norm1(x)\n",
    "        x = self.att(x)\n",
    "        x = self.dropout(x)\n",
    "\n",
    "        x = x + shortcut\n",
    "        shortcut = x\n",
    "\n",
    "        x = self.norm2(x)\n",
    "        x = self.ff(x)\n",
    "        x = self.dropout(x)\n",
    "\n",
    "        return x + shortcut       "
   ]
  },
  {
   "cell_type": "code",
   "execution_count": 52,
   "id": "367aafce-9c19-465d-ae74-d109be305a70",
   "metadata": {},
   "outputs": [],
   "source": [
    "class GPTModel(nn.Module):\n",
    "    def __init__(self,cfg):\n",
    "        super().__init__()\n",
    "        self.tok_emb = nn.Embedding(cfg[\"vocab_size\"],cfg[\"emb_dim\"])\n",
    "        self.pos_emb = nn.Embedding(cfg[\"context_length\"],cfg[\"emb_dim\"])\n",
    "        self.dropout = nn.Dropout(cfg[\"drop_rate\"])\n",
    "        self.trf_block = nn.Sequential(\n",
    "            *[TransformerBlock(cfg) for _ in range(cfg[\"n_layers\"])]\n",
    "        )\n",
    "        self.final_norm = LayerNorm(cfg)\n",
    "        self.out_proj = nn.Linear(cfg[\"emb_dim\"],cfg[\"vocab_size\"])\n",
    "\n",
    "    def forward(self,in_ids):\n",
    "        batch_size,num_tokens = in_ids.shape\n",
    "        token_embedding = self.tok_emb(in_ids)\n",
    "        pos_embedding = self.pos_emb(torch.arange(num_tokens,device=in_ids.device))\n",
    "        input_embedding = token_embedding + pos_embedding\n",
    "        x = self.dropout(input_embedding)\n",
    "        x = self.trf_block(x)\n",
    "        x = self.final_norm(x)\n",
    "        logits = self.out_proj(x)\n",
    "        return logits      \n",
    "        "
   ]
  },
  {
   "cell_type": "code",
   "execution_count": 53,
   "id": "51b86602-a0c6-47f6-b60e-69b2f0b0819a",
   "metadata": {},
   "outputs": [],
   "source": [
    "# --- Data Preparation ---\n",
    "def load_text_data(file_path=\"the-verdict.txt\", url=None):\n",
    "    if url and not os.path.exists(file_path):\n",
    "        print(f\"Downloading {file_path} from {url}...\")\n",
    "        with urllib.request.urlopen(url) as response:\n",
    "            text_data_bytes = response.read()\n",
    "            text_data = text_data_bytes.decode('utf-8')\n",
    "        with open(file_path, \"w\", encoding=\"utf-8\") as file:\n",
    "            file.write(text_data)\n",
    "        print(\"Download complete.\")\n",
    "    else:\n",
    "        with open(file_path, \"r\", encoding=\"utf-8\") as file:\n",
    "            text_data = file.read()\n",
    "    return text_data"
   ]
  },
  {
   "cell_type": "code",
   "execution_count": 54,
   "id": "14a4e374-0afc-4fa1-8d7e-4be4c04f7094",
   "metadata": {},
   "outputs": [],
   "source": [
    "class GPTDataset(Dataset):\n",
    "    def __init__(self,text,tokenizer,context_length,stride):\n",
    "        self.input_ids = []\n",
    "        self.target_ids = []\n",
    "\n",
    "        token_ids = tokenizer.encode(text,allowed_special={\"<|endoftext|>\"})\n",
    "        \n",
    "        for i in range(0,len(token_ids)-context_length,stride):\n",
    "            input_chunk = token_ids[i:i+context_length]\n",
    "            target_chunk = token_ids[i+1:i+context_length+1]\n",
    "            self.input_ids.append(torch.tensor(input_chunk))\n",
    "            self.target_ids.append(torch.tensor(target_chunk))\n",
    "            \n",
    "    def __len__(self):\n",
    "        return len(self.input_ids)\n",
    "        \n",
    "    def __getitem__(self,idx):\n",
    "        return self.input_ids[idx],self.target_ids[idx]"
   ]
  },
  {
   "cell_type": "code",
   "execution_count": 55,
   "id": "7ce6a620-c8b0-48b7-b41d-7ed8600dace2",
   "metadata": {},
   "outputs": [],
   "source": [
    "def create_dataloader(text,tokenizer,context_length,stride,batch_size=4,shuffle=True,drop_last=True,num_workers=0):\n",
    "\n",
    "    dataset = GPTDataset(text,tokenizer,context_length,stride)\n",
    "\n",
    "    dataloader = DataLoader(\n",
    "        dataset,\n",
    "        batch_size=batch_size,\n",
    "        shuffle=shuffle,\n",
    "        drop_last=drop_last,\n",
    "        num_workers=num_workers\n",
    "    )       \n",
    "    return dataloader"
   ]
  },
  {
   "cell_type": "code",
   "execution_count": 56,
   "id": "e6aa0c0e-51b0-4828-a726-bd81c02d8b55",
   "metadata": {},
   "outputs": [],
   "source": [
    "def text_to_token_ids(text,tokenizer):\n",
    "    ids = tokenizer.encode(text,allowed_special={\"<|endoftext|>\"})\n",
    "    return torch.tensor(ids).unsqueeze(0)"
   ]
  },
  {
   "cell_type": "code",
   "execution_count": 57,
   "id": "cdb2f6d0-ee99-4912-9358-dbeaef6b51df",
   "metadata": {},
   "outputs": [],
   "source": [
    "def token_ids_to_text(ids,tokenizer):\n",
    "    ids = ids.squeeze(0).tolist()\n",
    "    text = tokenizer.decode(ids)\n",
    "    return text"
   ]
  },
  {
   "cell_type": "code",
   "execution_count": 58,
   "id": "25de9698-4367-4853-a28d-5173494c99bf",
   "metadata": {},
   "outputs": [],
   "source": [
    "def generate_text_simple(model,ids,max_new_tokens,context_length):\n",
    "    for _ in range(max_new_tokens):\n",
    "        ids_last_context_window = ids[:,-context_length:]\n",
    "        with torch.no_grad():\n",
    "            logits = model(ids_last_context_window)\n",
    "        logits = logits[:,-1,:]\n",
    "        proba = torch.softmax(logits,dim=-1)\n",
    "        next_ids = torch.argmax(proba,dim=-1,keepdim=True)\n",
    "        ids = torch.cat((ids,next_ids),dim=1)\n",
    "    return ids"
   ]
  },
  {
   "cell_type": "code",
   "execution_count": 59,
   "id": "a210a8bb-999e-4853-9a43-ba71412e83bf",
   "metadata": {},
   "outputs": [],
   "source": [
    "def generate(model,ids,max_new_tokens,context_length,temperature=1.0,top_k=None,eos_id=None):\n",
    "    for _ in range(max_new_tokens):\n",
    "        ids_last_context_window = ids[:,-context_length:]\n",
    "        with torch.no_grad():\n",
    "            logits = model(ids_last_context_window) #[2,4,50257]\n",
    "        logits = logits[:,-1,:]\n",
    "\n",
    "        if top_k is not None:\n",
    "            top_logits,_ = torch.topk(logits,top_k)\n",
    "            min_value = top_logits[:,-1]\n",
    "            logits = torch.where(logits < min_value,torch.tensor(float(\"-inf\")).to(logits.device),logits)\n",
    "\n",
    "        if temperature > 0.0:\n",
    "            logits = logits / temperature\n",
    "            probas = torch.softmax(logits,dim=-1)\n",
    "            next_ids = torch.multinomial(probas,num_samples=1)\n",
    "        else:\n",
    "            next_ids = torch.argmax(logits,dim=-1,keepdim=True)\n",
    "            \n",
    "        if next_ids == eos_id:\n",
    "            break\n",
    "\n",
    "        ids = torch.cat((ids,next_ids),dim=1)\n",
    "\n",
    "    return ids"
   ]
  },
  {
   "cell_type": "code",
   "execution_count": 60,
   "id": "87ac9186-daa1-4472-b5cf-9eab2ff625a3",
   "metadata": {},
   "outputs": [],
   "source": [
    "def calculate_batch_loss(input_batch,target_batch,model,device):\n",
    "    input_batch,target_batch = input_batch.to(device),target_batch.to(device)\n",
    "    logits = model(input_batch)\n",
    "    loss = nn.functional.cross_entropy(logits.flatten(0,1),target_batch.flatten())\n",
    "    return loss"
   ]
  },
  {
   "cell_type": "code",
   "execution_count": 61,
   "id": "6b7e53e5-6e9d-4b74-89e7-28d014a8a5e3",
   "metadata": {},
   "outputs": [],
   "source": [
    "def calculate_loader_loss(dataloader,model,device,num_batches=None):\n",
    "    total_loss = 0\n",
    "    if len(dataloader) == 0: return float(\"nan\")\n",
    "    if num_batches is None: num_batches = len(dataloader)\n",
    "    else: num_batches = min(len(dataloader),num_batches)\n",
    "    for i, (input_batch,target_batch) in enumerate(dataloader):\n",
    "        if i < num_batches:\n",
    "            loss = calculate_batch_loss(input_batch,target_batch,model,device)\n",
    "            total_loss += loss.item()\n",
    "        else:\n",
    "            break\n",
    "    return total_loss/num_batches        "
   ]
  },
  {
   "cell_type": "code",
   "execution_count": 62,
   "id": "c5465307-851a-4109-94a4-e330461246ce",
   "metadata": {},
   "outputs": [],
   "source": [
    "def evaluate_model(train_loader,val_loader,model,device,eval_iter):\n",
    "    model.eval()\n",
    "    with torch.no_grad():\n",
    "        train_loss = calculate_loader_loss(train_loader,model,device,num_batches=eval_iter)\n",
    "        val_loss = calculate_loader_loss(val_loader,model,device,num_batches=eval_iter)\n",
    "    model.train()\n",
    "    return train_loss,val_loss    "
   ]
  },
  {
   "cell_type": "code",
   "execution_count": 63,
   "id": "a72575e5-c076-4d64-97a4-956d1b83d11d",
   "metadata": {},
   "outputs": [],
   "source": [
    "def generate_and_print_sample(model,tokenizer,start_context,context_size,device):\n",
    "    model.eval()\n",
    "    encoded = text_to_token_ids(start_context,tokenizer).to(device)\n",
    "    with torch.no_grad():\n",
    "        token_ids = generate(model,encoded,max_new_tokens=20,context_length=context_size,temperature=1.4,top_k=10)\n",
    "    decoded_text = token_ids_to_text(token_ids,tokenizer)\n",
    "    print(decoded_text.replace(\"\\n\",\"\"))\n",
    "    model.train()    "
   ]
  },
  {
   "cell_type": "code",
   "execution_count": 64,
   "id": "bcc36d23-c0dc-4240-a8b5-8877d24a287c",
   "metadata": {},
   "outputs": [],
   "source": [
    "def plot_losses_matplotlib(epochs_seen, tokens_seen, train_losses, val_losses, title_suffix=\"\"):\n",
    "    fig, ax1 = plt.subplots(figsize=(7, 4))\n",
    "    ax1.plot(tokens_seen, train_losses, label=\"Training loss\")\n",
    "    ax1.plot(tokens_seen, val_losses, linestyle=\"-.\", label=\"Validation loss\")\n",
    "    ax1.set_xlabel(\"Tokens Seen\")\n",
    "    ax1.set_ylabel(\"Loss\")\n",
    "    ax1.legend(loc=\"upper right\")\n",
    "    ax2 = ax1.twiny()\n",
    "    ax2.plot(epochs_seen, train_losses, alpha=0) # Invisible plot for aligning ticks\n",
    "    ax2.set_xlabel(\"Epochs\")\n",
    "    ax2.xaxis.set_major_locator(MaxNLocator(integer=True))\n",
    "    plt.title(f\"Training and Validation Loss {title_suffix}\")\n",
    "    fig.tight_layout()\n",
    "    plt.savefig(f\"loss-plot{title_suffix.replace(' ', '-')}.pdf\") # Optional: save plot\n",
    "    plt.show()"
   ]
  },
  {
   "cell_type": "code",
   "execution_count": 65,
   "id": "3b0efc9a-4167-4081-b528-4977f15b3f3d",
   "metadata": {},
   "outputs": [],
   "source": [
    "def train_model_simple(model,train_loader,val_loader,optimizer,device,num_epochs,eval_freq,eval_iter,start_context,tokenizer,context_length):\n",
    "    train_losses,val_losses,track_token_seen_list,track_epochs_seen_list = [],[],[],[]\n",
    "    token_seen_total,global_step = 0,-1\n",
    "\n",
    "    for epoch in range(num_epochs):\n",
    "        model.train()\n",
    "        pbar = tqdm.tqdm(train_loader,desc=f\"Epoch {epoch+1}/{num_epochs}\")\n",
    "        for input_batch,target_batch in pbar:\n",
    "            optimizer.zero_grad()\n",
    "            loss = calculate_batch_loss(input_batch,target_batch,model,device)\n",
    "            loss.backward()\n",
    "            optimizer.step()\n",
    "            token_seen_total += input_batch.numel()\n",
    "            global_step += 1\n",
    "\n",
    "            if global_step % eval_freq == 0:\n",
    "                train_loss,val_loss = evaluate_model(train_loader,val_loader,model,device,eval_iter)\n",
    "                train_losses.append(train_loss)\n",
    "                val_losses.append(val_loss)\n",
    "                track_token_seen_list.append(token_seen_total)\n",
    "                track_epochs_seen_list.append(epoch + (global_step * train_loader.batch_size) / len(train_loader.dataset) ) # Approximate epoch\n",
    "                pbar.set_postfix_str(f\"Train Loss: {train_loss:.3f}, Val Loss: {val_loss:.3f}\")\n",
    "\n",
    "        generate_and_print_sample(model,tokenizer,start_context,context_length,device)\n",
    "        pbar.close()\n",
    "    return train_losses,val_losses,track_token_seen_list,track_epochs_seen_list"
   ]
  },
  {
   "cell_type": "code",
   "execution_count": 66,
   "id": "e89fc68e-fbfc-4993-9801-4ea01b9441e5",
   "metadata": {},
   "outputs": [],
   "source": [
    "device = torch.device(\"cuda\" if torch.cuda.is_available() else \"cpu\")"
   ]
  },
  {
   "cell_type": "code",
   "execution_count": 67,
   "id": "eb4b1387-ee3c-42df-8f2c-086ed27ca8fe",
   "metadata": {},
   "outputs": [],
   "source": [
    "text_data = load_text_data()"
   ]
  },
  {
   "cell_type": "code",
   "execution_count": 68,
   "id": "b4d446d6-1231-438f-8935-852dfa1f7291",
   "metadata": {},
   "outputs": [],
   "source": [
    "tokenizer = tiktoken.get_encoding(\"gpt2\")"
   ]
  },
  {
   "cell_type": "code",
   "execution_count": 69,
   "id": "c85aad4a-967a-40f4-926a-586e75b23b21",
   "metadata": {},
   "outputs": [],
   "source": [
    "model = GPTModel(cfg).to(device)"
   ]
  },
  {
   "cell_type": "code",
   "execution_count": 70,
   "id": "056941ae-0e7b-450c-99ae-37ba7daed1e9",
   "metadata": {},
   "outputs": [],
   "source": [
    "train_ratio = 0.9\n",
    "split_idx = int(train_ratio * len(text_data))\n",
    "train_data = text_data[:split_idx]\n",
    "val_data = text_data[split_idx:]"
   ]
  },
  {
   "cell_type": "code",
   "execution_count": 71,
   "id": "c9a2c621-0945-474e-bfa4-d9befd7d694a",
   "metadata": {},
   "outputs": [],
   "source": [
    "train_loader = create_dataloader(text=train_data,\n",
    "                                 tokenizer=tokenizer,\n",
    "                                 context_length=cfg[\"context_length\"],\n",
    "                                 stride=cfg[\"context_length\"],\n",
    "                                 shuffle=True,\n",
    "                                 drop_last=True)\n",
    "validation_loader = create_dataloader(text=val_data,\n",
    "                                 tokenizer=tokenizer,\n",
    "                                 context_length=cfg[\"context_length\"],\n",
    "                                 stride=cfg[\"context_length\"],\n",
    "                                 shuffle=False,\n",
    "                                 drop_last=False)"
   ]
  },
  {
   "cell_type": "code",
   "execution_count": 72,
   "id": "d6584c90-b7be-4791-945e-7b7fb8ca2c08",
   "metadata": {},
   "outputs": [],
   "source": [
    "optimizer = torch.optim.AdamW(model.parameters(), lr=0.0004, weight_decay=0.1)"
   ]
  },
  {
   "cell_type": "code",
   "execution_count": 73,
   "id": "b59fc0f6-7d4a-4e4a-af01-9fc8ea2fd2c5",
   "metadata": {},
   "outputs": [
    {
     "name": "stdout",
     "output_type": "stream",
     "text": [
      "Initial Train Loss: 10.970\n",
      "Initial Val Loss: 10.973\n"
     ]
    }
   ],
   "source": [
    "# Calculate initial losses\n",
    "with torch.no_grad():\n",
    "    initial_train_loss = calculate_loader_loss(train_loader, model, device)\n",
    "    initial_val_loss = calculate_loader_loss(validation_loader, model, device)\n",
    "print(f\"Initial Train Loss: {initial_train_loss:.3f}\")\n",
    "print(f\"Initial Val Loss: {initial_val_loss:.3f}\")"
   ]
  },
  {
   "cell_type": "code",
   "execution_count": 74,
   "id": "f5a7d20b-7667-4230-b33d-b5139de2f586",
   "metadata": {},
   "outputs": [],
   "source": [
    "num_epochs=6\n",
    "eval_freq = len(train_loader) // 2\n",
    "if eval_freq == 0 : eval_freq = 1\n",
    "eval_iter = 5\n",
    "start_context=start_context = \"Every effort moves you\""
   ]
  },
  {
   "cell_type": "code",
   "execution_count": 75,
   "id": "61070ab9-b07e-469d-94f3-d737ca8c888c",
   "metadata": {},
   "outputs": [
    {
     "name": "stdout",
     "output_type": "stream",
     "text": [
      "Starting Tranining .....\n"
     ]
    },
    {
     "name": "stderr",
     "output_type": "stream",
     "text": [
      "Epoch 1/6: 100%|█| 4/4 [00:20<00:00,  5.08s/it, Train Loss: 8.894, Val Loss: 9.1\n"
     ]
    },
    {
     "name": "stdout",
     "output_type": "stream",
     "text": [
      "Every effort moves you, of, my. the. the the..\n"
     ]
    },
    {
     "name": "stderr",
     "output_type": "stream",
     "text": [
      "Epoch 2/6: 100%|█| 4/4 [00:19<00:00,  4.79s/it, Train Loss: 7.490, Val Loss: 7.8\n"
     ]
    },
    {
     "name": "stdout",
     "output_type": "stream",
     "text": [
      "Every effort moves you the. I-- the the and the, I the I the the the the and,.\n"
     ]
    },
    {
     "name": "stderr",
     "output_type": "stream",
     "text": [
      "Epoch 3/6: 100%|█| 4/4 [00:21<00:00,  5.37s/it, Train Loss: 6.403, Val Loss: 6.9\n"
     ]
    },
    {
     "name": "stdout",
     "output_type": "stream",
     "text": [
      "Every effort moves you. he-- his, in,, to of the was of.\n"
     ]
    },
    {
     "name": "stderr",
     "output_type": "stream",
     "text": [
      "Epoch 4/6: 100%|█| 4/4 [00:20<00:00,  5.20s/it, Train Loss: 5.861, Val Loss: 6.5\n"
     ]
    },
    {
     "name": "stdout",
     "output_type": "stream",
     "text": [
      "Every effort moves you a a.\"\" the and to the a to I I, and of it the- the\n"
     ]
    },
    {
     "name": "stderr",
     "output_type": "stream",
     "text": [
      "Epoch 5/6: 100%|█| 4/4 [00:20<00:00,  5.21s/it, Train Loss: 5.256, Val Loss: 6.4\n"
     ]
    },
    {
     "name": "stdout",
     "output_type": "stream",
     "text": [
      "Every effort moves you I was that he had was--as was, and the on his of the and I of the\n"
     ]
    },
    {
     "name": "stderr",
     "output_type": "stream",
     "text": [
      "Epoch 6/6: 100%|█| 4/4 [00:20<00:00,  5.20s/it, Train Loss: 4.686, Val Loss: 6.3\n"
     ]
    },
    {
     "name": "stdout",
     "output_type": "stream",
     "text": [
      "Every effort moves you the to the that-, I had a- my's the- of the of Jack- it\n",
      "Training complete in 2.17\n"
     ]
    }
   ],
   "source": [
    "print(\"Starting Tranining .....\")\n",
    "train_start_time = time.time()\n",
    "\n",
    "all_train_losses,all_validation_losses,all_token_seen_list,all_epochs_seen_list = train_model_simple(model,train_loader,validation_loader,optimizer,device,num_epochs,eval_freq,eval_iter,start_context,tokenizer,cfg[\"context_length\"])\n",
    "\n",
    "train_end_time = time.time()\n",
    "print(f\"Training complete in {((train_end_time - train_start_time)/60):.2f}\")"
   ]
  },
  {
   "cell_type": "code",
   "execution_count": 76,
   "id": "e8b332ae-f060-478d-9fd9-911bbc3aa5e5",
   "metadata": {},
   "outputs": [
    {
     "data": {
      "image/png": "[encoded data removed]",
      "text/plain": [
       "<Figure size 700x400 with 2 Axes>"
      ]
     },
     "metadata": {},
     "output_type": "display_data"
    }
   ],
   "source": [
    "#plot losses\n",
    "if all_train_losses:\n",
    "    plot_losses_matplotlib(epochs_seen=all_epochs_seen_list,tokens_seen=all_token_seen_list,train_losses=all_train_losses,val_losses=all_validation_losses)\n",
    "else:\n",
    "    print(\"No losses recorded during training process\")"
   ]
  },
  {
   "cell_type": "code",
   "execution_count": 77,
   "id": "79ec3908-ad54-4b7d-9db4-4e64b426871b",
   "metadata": {},
   "outputs": [
    {
     "name": "stdout",
     "output_type": "stream",
     "text": [
      "hello my name is lochan to have a that Mrs. Gisburn's\n"
     ]
    }
   ],
   "source": [
    "#generate text with train model\n",
    "model.eval()\n",
    "final_output_ids = generate(model,\n",
    "                            ids=text_to_token_ids(\"hello my name is lochan\",tokenizer).to(device),\n",
    "                            max_new_tokens=10,\n",
    "                            context_length=cfg[\"context_length\"],\n",
    "                            temperature=1.4,\n",
    "                            top_k=10,)\n",
    "print(token_ids_to_text(final_output_ids,tokenizer))                            "
   ]
  },
  {
   "cell_type": "code",
   "execution_count": 78,
   "id": "20d2493a-7aaf-498f-89fa-a363fef5b36d",
   "metadata": {},
   "outputs": [
    {
     "name": "stdout",
     "output_type": "stream",
     "text": [
      "model saved successfully to gpt_model.pth\n",
      "optimizer saved successfully to optimizer.pth\n"
     ]
    }
   ],
   "source": [
    "#save the model\n",
    "model_save_path = \"gpt_model.pth\"\n",
    "optimizer_save_path = \"optimizer.pth\"\n",
    "\n",
    "torch.save(model.state_dict(),model_save_path)\n",
    "print(f\"model saved successfully to {model_save_path}\")\n",
    "\n",
    "torch.save(optimizer.state_dict(),optimizer_save_path)\n",
    "print(f\"optimizer saved successfully to {optimizer_save_path}\")"
   ]
  },
  {
   "cell_type": "code",
   "execution_count": 79,
   "id": "7a1c095f-cb42-42af-9e3e-39df083afc45",
   "metadata": {},
   "outputs": [
    {
     "name": "stderr",
     "output_type": "stream",
     "text": [
      "/tmp/ipykernel_5481/632782512.py:3: FutureWarning: You are using `torch.load` with `weights_only=False` (the current default value), which uses the default pickle module implicitly. It is possible to construct malicious pickle data which will execute arbitrary code during unpickling (See https://github.com/pytorch/pytorch/blob/main/SECURITY.md#untrusted-models for more details). In a future release, the default value for `weights_only` will be flipped to `True`. This limits the functions that could be executed during unpickling. Arbitrary objects will no longer be allowed to be loaded via this mode unless they are explicitly allowlisted by the user via `torch.serialization.add_safe_globals`. We recommend you start setting `weights_only=True` for any use case where you don't have full control of the loaded file. Please open an issue on GitHub for any issues related to this experimental feature.\n",
      "  model.load_state_dict(torch.load(model_save_path,map_location=device))\n"
     ]
    },
    {
     "name": "stdout",
     "output_type": "stream",
     "text": [
      "model loaded successfully\n"
     ]
    }
   ],
   "source": [
    "#load the model\n",
    "model = GPTModel(cfg)\n",
    "model.load_state_dict(torch.load(model_save_path,map_location=device))\n",
    "model.to(device)\n",
    "model.eval()\n",
    "print(\"model loaded successfully\")"
   ]
  }
 ],
 "metadata": {
  "kernelspec": {
   "display_name": "Python 3 (ipykernel)",
   "language": "python",
   "name": "python3"
  },
  "language_info": {
   "codemirror_mode": {
    "name": "ipython",
    "version": 3
   },
   "file_extension": ".py",
   "mimetype": "text/x-python",
   "name": "python",
   "nbconvert_exporter": "python",
   "pygments_lexer": "ipython3",
   "version": "3.12.2"
  }
 },
 "nbformat": 4,
 "nbformat_minor": 5
}
